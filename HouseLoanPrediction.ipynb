{
 "cells": [
  {
   "cell_type": "code",
   "execution_count": 1,
   "metadata": {},
   "outputs": [],
   "source": [
    "import pandas as pd \n",
    "import numpy as np                     \n",
    "import seaborn as sns                  \n",
    "import matplotlib.pyplot as plt         \n",
    "%matplotlib inline \n",
    "import warnings        "
   ]
  },
  {
   "cell_type": "code",
   "execution_count": 2,
   "metadata": {},
   "outputs": [
    {
     "name": "stdout",
     "output_type": "stream",
     "text": [
      "   Loan.ID  Current.Loan.Amount        Term  Credit.Score  \\\n",
      "0        0                17879  Short Term         739.0   \n",
      "1        1             99999999   Long Term         619.0   \n",
      "2        3             99999999  Short Term         738.0   \n",
      "3        4                11200  Short Term         738.0   \n",
      "4        5                 3608  Short Term         731.0   \n",
      "\n",
      "  Years.in.current.job Home.Ownership  Annual.Income             Purpose  \\\n",
      "0              6 years  Home Mortgage        95357.0  Debt Consolidation   \n",
      "1              6 years           Rent        54406.0  Debt Consolidation   \n",
      "2    less than  1 year           Rent        40480.0       Medical Bills   \n",
      "3              4 years           Rent        53965.0  Debt Consolidation   \n",
      "4            10+ years  Home Mortgage        47709.0   Home Improvements   \n",
      "\n",
      "   Monthly.Debt  Years.of.Credit.History  Months.since.last.delinquent  \\\n",
      "0       1509.82                     34.4                           5.0   \n",
      "1       1065.45                     12.7                           NaN   \n",
      "2        573.47                     32.7                          60.0   \n",
      "3       1358.11                     15.8                           NaN   \n",
      "4        339.93                     16.1                          47.0   \n",
      "\n",
      "   Number.of.Open.Accounts  Number.of.Credit.Problems  Current.Credit.Balance  \\\n",
      "0                       26                          0                   23986   \n",
      "1                        8                          0                   22938   \n",
      "2                        9                          1                    3963   \n",
      "3                        8                          1                   11782   \n",
      "4                        6                          0                   22909   \n",
      "\n",
      "   Maximum.Open.Credit  Bankruptcies  Tax.Liens  Loan.Status  \n",
      "0                40313           0.0        0.0            1  \n",
      "1                31250           0.0        0.0            1  \n",
      "2                 5669           1.0        0.0            1  \n",
      "3                25951           1.0        0.0            1  \n",
      "4                25568           0.0        0.0            1  \n"
     ]
    }
   ],
   "source": [
    "train_data= pd.read_csv(\"Desktop/Project/train.csv\")\n",
    "\n",
    "test_data= pd.read_csv(\"Desktop/Project/test.csv\")\n",
    "print(train_data.head(5))"
   ]
  },
  {
   "cell_type": "code",
   "execution_count": 3,
   "metadata": {},
   "outputs": [],
   "source": [
    "train_original=train_data.copy() \n",
    "test_original=test_data.copy()"
   ]
  },
  {
   "cell_type": "code",
   "execution_count": 4,
   "metadata": {},
   "outputs": [
    {
     "data": {
      "text/plain": [
       "Loan.ID                           int64\n",
       "Current.Loan.Amount               int64\n",
       "Term                             object\n",
       "Credit.Score                    float64\n",
       "Years.in.current.job             object\n",
       "Home.Ownership                   object\n",
       "Annual.Income                   float64\n",
       "Purpose                          object\n",
       "Monthly.Debt                    float64\n",
       "Years.of.Credit.History         float64\n",
       "Months.since.last.delinquent    float64\n",
       "Number.of.Open.Accounts           int64\n",
       "Number.of.Credit.Problems         int64\n",
       "Current.Credit.Balance            int64\n",
       "Maximum.Open.Credit               int64\n",
       "Bankruptcies                    float64\n",
       "Tax.Liens                       float64\n",
       "Loan.Status                       int64\n",
       "dtype: object"
      ]
     },
     "execution_count": 4,
     "metadata": {},
     "output_type": "execute_result"
    }
   ],
   "source": [
    "train_data.dtypes"
   ]
  },
  {
   "cell_type": "code",
   "execution_count": 5,
   "metadata": {},
   "outputs": [
    {
     "data": {
      "text/plain": [
       "Loan.ID                           int64\n",
       "Current.Loan.Amount               int64\n",
       "Term                             object\n",
       "Credit.Score                    float64\n",
       "Years.in.current.job             object\n",
       "Home.Ownership                   object\n",
       "Annual.Income                   float64\n",
       "Purpose                          object\n",
       "Monthly.Debt                    float64\n",
       "Years.of.Credit.History         float64\n",
       "Months.since.last.delinquent    float64\n",
       "Number.of.Open.Accounts           int64\n",
       "Number.of.Credit.Problems         int64\n",
       "Current.Credit.Balance            int64\n",
       "Maximum.Open.Credit               int64\n",
       "Bankruptcies                    float64\n",
       "Tax.Liens                       float64\n",
       "Loan.Status                     float64\n",
       "dtype: object"
      ]
     },
     "execution_count": 5,
     "metadata": {},
     "output_type": "execute_result"
    }
   ],
   "source": [
    "test_data.dtypes"
   ]
  },
  {
   "cell_type": "code",
   "execution_count": 6,
   "metadata": {},
   "outputs": [
    {
     "data": {
      "text/plain": [
       "((60804, 18), (23386, 18))"
      ]
     },
     "execution_count": 6,
     "metadata": {},
     "output_type": "execute_result"
    }
   ],
   "source": [
    "train_data.shape ,test_data.shape"
   ]
  },
  {
   "cell_type": "code",
   "execution_count": 7,
   "metadata": {},
   "outputs": [
    {
     "data": {
      "text/plain": [
       "1    0.759457\n",
       "0    0.240543\n",
       "Name: Loan.Status, dtype: float64"
      ]
     },
     "execution_count": 7,
     "metadata": {},
     "output_type": "execute_result"
    }
   ],
   "source": [
    "train_data['Loan.Status'].value_counts(normalize=True)"
   ]
  },
  {
   "cell_type": "code",
   "execution_count": 8,
   "metadata": {},
   "outputs": [
    {
     "data": {
      "text/plain": [
       "<matplotlib.axes._subplots.AxesSubplot at 0x1fd622ba198>"
      ]
     },
     "execution_count": 8,
     "metadata": {},
     "output_type": "execute_result"
    },
    {
     "data": {
      "image/png": "[encoded data removed]",
      "text/plain": [
       "<Figure size 1440x720 with 2 Axes>"
      ]
     },
     "metadata": {
      "needs_background": "light"
     },
     "output_type": "display_data"
    }
   ],
   "source": [
    "plt.figure(1)\n",
    "plt.subplot(221) \n",
    "train_data['Term'].value_counts(normalize=True).plot.bar(figsize=(20,10), title= 'Term') \n",
    "plt.subplot(222)\n",
    "train_data['Term'].value_counts(normalize=True).plot.bar(title= 'Credit') "
   ]
  },
  {
   "cell_type": "code",
   "execution_count": 9,
   "metadata": {},
   "outputs": [
    {
     "data": {
      "image/png": "[encoded data removed]",
      "text/plain": [
       "<Figure size 1152x360 with 2 Axes>"
      ]
     },
     "metadata": {
      "needs_background": "light"
     },
     "output_type": "display_data"
    }
   ],
   "source": [
    "plt.figure(1) \n",
    "plt.subplot(121) \n",
    "sns.distplot(train_data['Current.Loan.Amount']); \n",
    "\n",
    "plt.subplot(122)\n",
    "train_data['Current.Loan.Amount'].plot.box(figsize=(16,5)) \n",
    "plt.show()"
   ]
  },
  {
   "cell_type": "code",
   "execution_count": 10,
   "metadata": {},
   "outputs": [
    {
     "data": {
      "text/plain": [
       "<matplotlib.axes._subplots.AxesSubplot at 0x1fd63a7da20>"
      ]
     },
     "execution_count": 10,
     "metadata": {},
     "output_type": "execute_result"
    },
    {
     "data": {
      "image/png": "[encoded data removed]",
      "text/plain": [
       "<Figure size 288x288 with 1 Axes>"
      ]
     },
     "metadata": {
      "needs_background": "light"
     },
     "output_type": "display_data"
    }
   ],
   "source": [
    "Gender=pd.crosstab(train_data['Tax.Liens'],train_data['Loan.Status'])\n",
    "Gender.div(Gender.sum(1).astype(float), axis=0).plot(kind=\"bar\", stacked=True, figsize=(4,4))"
   ]
  },
  {
   "cell_type": "code",
   "execution_count": 11,
   "metadata": {},
   "outputs": [
    {
     "data": {
      "text/plain": [
       "<matplotlib.axes._subplots.AxesSubplot at 0x1fd63b0b518>"
      ]
     },
     "execution_count": 11,
     "metadata": {},
     "output_type": "execute_result"
    },
    {
     "data": {
      "image/png": "[encoded data removed]",
      "text/plain": [
       "<Figure size 432x288 with 1 Axes>"
      ]
     },
     "metadata": {
      "needs_background": "light"
     },
     "output_type": "display_data"
    }
   ],
   "source": [
    "train_data.groupby('Loan.Status')['Current.Credit.Balance'].mean().plot.bar()"
   ]
  },
  {
   "cell_type": "code",
   "execution_count": 12,
   "metadata": {},
   "outputs": [
    {
     "data": {
      "text/plain": [
       "Loan.ID                             0\n",
       "Current.Loan.Amount                 0\n",
       "Term                                0\n",
       "Credit.Score                    12229\n",
       "Years.in.current.job             2529\n",
       "Home.Ownership                      0\n",
       "Annual.Income                   12229\n",
       "Purpose                             0\n",
       "Monthly.Debt                        0\n",
       "Years.of.Credit.History             0\n",
       "Months.since.last.delinquent    32475\n",
       "Number.of.Open.Accounts             0\n",
       "Number.of.Credit.Problems           0\n",
       "Current.Credit.Balance              0\n",
       "Maximum.Open.Credit                 0\n",
       "Bankruptcies                      127\n",
       "Tax.Liens                           2\n",
       "Loan.Status                         0\n",
       "dtype: int64"
      ]
     },
     "execution_count": 12,
     "metadata": {},
     "output_type": "execute_result"
    }
   ],
   "source": [
    "train_data.isnull().sum()"
   ]
  },
  {
   "cell_type": "code",
   "execution_count": 13,
   "metadata": {},
   "outputs": [
    {
     "data": {
      "text/plain": [
       "(726.0, 61576.0, 32.0)"
      ]
     },
     "execution_count": 13,
     "metadata": {},
     "output_type": "execute_result"
    }
   ],
   "source": [
    "train_data['Credit.Score'].median(),train_data['Annual.Income'].median(),train_data['Months.since.last.delinquent'].median()\n"
   ]
  },
  {
   "cell_type": "code",
   "execution_count": 14,
   "metadata": {},
   "outputs": [],
   "source": [
    "train_data['Credit.Score'].fillna(train_data['Credit.Score'].median(), inplace=True)"
   ]
  },
  {
   "cell_type": "code",
   "execution_count": 15,
   "metadata": {},
   "outputs": [],
   "source": [
    "train_data['Annual.Income'].fillna(train_data['Annual.Income'].median(), inplace=True)"
   ]
  },
  {
   "cell_type": "code",
   "execution_count": 16,
   "metadata": {},
   "outputs": [],
   "source": [
    "train_data['Months.since.last.delinquent'].fillna(train_data['Months.since.last.delinquent'].median(), inplace=True)"
   ]
  },
  {
   "cell_type": "code",
   "execution_count": 17,
   "metadata": {},
   "outputs": [
    {
     "data": {
      "text/plain": [
       "Loan.ID                            0\n",
       "Current.Loan.Amount                0\n",
       "Term                               0\n",
       "Credit.Score                       0\n",
       "Years.in.current.job            2529\n",
       "Home.Ownership                     0\n",
       "Annual.Income                      0\n",
       "Purpose                            0\n",
       "Monthly.Debt                       0\n",
       "Years.of.Credit.History            0\n",
       "Months.since.last.delinquent       0\n",
       "Number.of.Open.Accounts            0\n",
       "Number.of.Credit.Problems          0\n",
       "Current.Credit.Balance             0\n",
       "Maximum.Open.Credit                0\n",
       "Bankruptcies                     127\n",
       "Tax.Liens                          2\n",
       "Loan.Status                        0\n",
       "dtype: int64"
      ]
     },
     "execution_count": 17,
     "metadata": {},
     "output_type": "execute_result"
    }
   ],
   "source": [
    "train_data.isnull().sum()"
   ]
  },
  {
   "cell_type": "code",
   "execution_count": 18,
   "metadata": {},
   "outputs": [],
   "source": [
    "test_data['Credit.Score'].fillna(test_data['Credit.Score'].median(), inplace=True)"
   ]
  },
  {
   "cell_type": "code",
   "execution_count": 19,
   "metadata": {},
   "outputs": [],
   "source": [
    "test_data['Annual.Income'].fillna(test_data['Annual.Income'].median(), inplace=True)"
   ]
  },
  {
   "cell_type": "code",
   "execution_count": 20,
   "metadata": {},
   "outputs": [],
   "source": [
    "test_data['Months.since.last.delinquent'].fillna(test_data['Months.since.last.delinquent'].median(), inplace=True)"
   ]
  },
  {
   "cell_type": "code",
   "execution_count": 21,
   "metadata": {},
   "outputs": [],
   "source": [
    "train_data['Credit.Score'] = np.log(train_data['Credit.Score']) "
   ]
  },
  {
   "cell_type": "code",
   "execution_count": 22,
   "metadata": {},
   "outputs": [],
   "source": [
    "train_data['Annual.Income'] = np.log(train_data['Annual.Income']) "
   ]
  },
  {
   "cell_type": "code",
   "execution_count": 23,
   "metadata": {},
   "outputs": [],
   "source": [
    "test_data['Credit.Score'] = np.log(test_data['Credit.Score']) "
   ]
  },
  {
   "cell_type": "code",
   "execution_count": 24,
   "metadata": {},
   "outputs": [],
   "source": [
    "test_data['Current.Loan.Amount'] = np.log(test_data['Current.Loan.Amount'])"
   ]
  },
  {
   "cell_type": "code",
   "execution_count": 25,
   "metadata": {},
   "outputs": [],
   "source": [
    "test_data['Annual.Income'] = np.log(test_data['Annual.Income'])"
   ]
  },
  {
   "cell_type": "code",
   "execution_count": 26,
   "metadata": {},
   "outputs": [],
   "source": [
    "train_data['Current.Loan.Amount'] = np.log(train_data['Current.Loan.Amount'])"
   ]
  },
  {
   "cell_type": "code",
   "execution_count": 27,
   "metadata": {},
   "outputs": [
    {
     "name": "stdout",
     "output_type": "stream",
     "text": [
      "<class 'pandas.core.frame.DataFrame'>\n",
      "RangeIndex: 60804 entries, 0 to 60803\n",
      "Data columns (total 18 columns):\n",
      "Loan.ID                         60804 non-null int64\n",
      "Current.Loan.Amount             60804 non-null float64\n",
      "Term                            60804 non-null object\n",
      "Credit.Score                    60804 non-null float64\n",
      "Years.in.current.job            58275 non-null object\n",
      "Home.Ownership                  60804 non-null object\n",
      "Annual.Income                   60804 non-null float64\n",
      "Purpose                         60804 non-null object\n",
      "Monthly.Debt                    60804 non-null float64\n",
      "Years.of.Credit.History         60804 non-null float64\n",
      "Months.since.last.delinquent    60804 non-null float64\n",
      "Number.of.Open.Accounts         60804 non-null int64\n",
      "Number.of.Credit.Problems       60804 non-null int64\n",
      "Current.Credit.Balance          60804 non-null int64\n",
      "Maximum.Open.Credit             60804 non-null int64\n",
      "Bankruptcies                    60677 non-null float64\n",
      "Tax.Liens                       60802 non-null float64\n",
      "Loan.Status                     60804 non-null int64\n",
      "dtypes: float64(8), int64(6), object(4)\n",
      "memory usage: 8.4+ MB\n"
     ]
    }
   ],
   "source": [
    "train_data.info()"
   ]
  },
  {
   "cell_type": "code",
   "execution_count": 28,
   "metadata": {},
   "outputs": [],
   "source": [
    "train_data[train_data['Current.Credit.Balance']<1]=1\n",
    "test_data[test_data['Current.Credit.Balance']<1]=1\n",
    "train_data['Current.Credit.Balance'] = np.log(train_data['Current.Credit.Balance'])\n",
    "test_data['Current.Credit.Balance'] = np.log(test_data['Current.Credit.Balance'])\n",
    "\n"
   ]
  },
  {
   "cell_type": "code",
   "execution_count": 29,
   "metadata": {},
   "outputs": [],
   "source": [
    "train_data=train_data.drop(['Term','Years.in.current.job','Home.Ownership','Purpose','Years.of.Credit.History','Number.of.Open.Accounts','Number.of.Credit.Problems','Maximum.Open.Credit','Bankruptcies','Tax.Liens','Loan.Status'] ,axis = 1)"
   ]
  },
  {
   "cell_type": "code",
   "execution_count": 30,
   "metadata": {},
   "outputs": [],
   "source": [
    "test_data=test_data.drop(['Loan.ID','Term','Years.in.current.job','Home.Ownership','Purpose','Years.of.Credit.History','Number.of.Open.Accounts','Number.of.Credit.Problems','Maximum.Open.Credit','Bankruptcies','Tax.Liens','Loan.Status'] ,axis = 1)"
   ]
  },
  {
   "cell_type": "code",
   "execution_count": 46,
   "metadata": {},
   "outputs": [
    {
     "name": "stderr",
     "output_type": "stream",
     "text": [
      "C:\\Users\\Lenovo\\Anaconda3\\lib\\site-packages\\ipykernel_launcher.py:3: SettingWithCopyWarning: \n",
      "A value is trying to be set on a copy of a slice from a DataFrame\n",
      "\n",
      "See the caveats in the documentation: http://pandas.pydata.org/pandas-docs/stable/indexing.html#indexing-view-versus-copy\n",
      "  This is separate from the ipykernel package so we can avoid doing imports until\n",
      "C:\\Users\\Lenovo\\Anaconda3\\lib\\site-packages\\ipykernel_launcher.py:7: SettingWithCopyWarning: \n",
      "A value is trying to be set on a copy of a slice from a DataFrame\n",
      "\n",
      "See the caveats in the documentation: http://pandas.pydata.org/pandas-docs/stable/indexing.html#indexing-view-versus-copy\n",
      "  import sys\n"
     ]
    }
   ],
   "source": [
    "p=train_original['Maximum.Open.Credit']\n",
    "p.isnull().sum()\n",
    "p[p==0]=1\n",
    "p=np.log(p)\n",
    "q=test_original['Maximum.Open.Credit']\n",
    "q.isnull().sum()\n",
    "q[q==0]=1\n",
    "q=np.log(q)"
   ]
  },
  {
   "cell_type": "code",
   "execution_count": 47,
   "metadata": {},
   "outputs": [],
   "source": [
    "train_data['Term']=train_original['Term']"
   ]
  },
  {
   "cell_type": "code",
   "execution_count": 48,
   "metadata": {},
   "outputs": [],
   "source": [
    "test_data['Term']=test_original['Term']"
   ]
  },
  {
   "cell_type": "code",
   "execution_count": 49,
   "metadata": {},
   "outputs": [
    {
     "data": {
      "text/html": [
       "<div>\n",
       "<style scoped>\n",
       "    .dataframe tbody tr th:only-of-type {\n",
       "        vertical-align: middle;\n",
       "    }\n",
       "\n",
       "    .dataframe tbody tr th {\n",
       "        vertical-align: top;\n",
       "    }\n",
       "\n",
       "    .dataframe thead th {\n",
       "        text-align: right;\n",
       "    }\n",
       "</style>\n",
       "<table border=\"1\" class=\"dataframe\">\n",
       "  <thead>\n",
       "    <tr style=\"text-align: right;\">\n",
       "      <th></th>\n",
       "      <th>Loan.ID</th>\n",
       "      <th>Current.Loan.Amount</th>\n",
       "      <th>Credit.Score</th>\n",
       "      <th>Annual.Income</th>\n",
       "      <th>Monthly.Debt</th>\n",
       "      <th>Months.since.last.delinquent</th>\n",
       "      <th>Current.Credit.Balance</th>\n",
       "      <th>Term_Long Term</th>\n",
       "      <th>Term_Short Term</th>\n",
       "      <th>Term</th>\n",
       "    </tr>\n",
       "  </thead>\n",
       "  <tbody>\n",
       "    <tr>\n",
       "      <th>0</th>\n",
       "      <td>0</td>\n",
       "      <td>9.791382</td>\n",
       "      <td>6.605298</td>\n",
       "      <td>11.465383</td>\n",
       "      <td>1509.82</td>\n",
       "      <td>5.0</td>\n",
       "      <td>10.085226</td>\n",
       "      <td>0</td>\n",
       "      <td>1</td>\n",
       "      <td>Short Term</td>\n",
       "    </tr>\n",
       "    <tr>\n",
       "      <th>1</th>\n",
       "      <td>1</td>\n",
       "      <td>18.420681</td>\n",
       "      <td>6.428105</td>\n",
       "      <td>10.904230</td>\n",
       "      <td>1065.45</td>\n",
       "      <td>32.0</td>\n",
       "      <td>10.040550</td>\n",
       "      <td>1</td>\n",
       "      <td>0</td>\n",
       "      <td>Long Term</td>\n",
       "    </tr>\n",
       "    <tr>\n",
       "      <th>2</th>\n",
       "      <td>3</td>\n",
       "      <td>18.420681</td>\n",
       "      <td>6.603944</td>\n",
       "      <td>10.608563</td>\n",
       "      <td>573.47</td>\n",
       "      <td>60.0</td>\n",
       "      <td>8.284757</td>\n",
       "      <td>0</td>\n",
       "      <td>1</td>\n",
       "      <td>Short Term</td>\n",
       "    </tr>\n",
       "    <tr>\n",
       "      <th>3</th>\n",
       "      <td>4</td>\n",
       "      <td>9.323669</td>\n",
       "      <td>6.603944</td>\n",
       "      <td>10.896091</td>\n",
       "      <td>1358.11</td>\n",
       "      <td>32.0</td>\n",
       "      <td>9.374328</td>\n",
       "      <td>0</td>\n",
       "      <td>1</td>\n",
       "      <td>Short Term</td>\n",
       "    </tr>\n",
       "    <tr>\n",
       "      <th>4</th>\n",
       "      <td>5</td>\n",
       "      <td>8.190909</td>\n",
       "      <td>6.594413</td>\n",
       "      <td>10.772875</td>\n",
       "      <td>339.93</td>\n",
       "      <td>47.0</td>\n",
       "      <td>10.039285</td>\n",
       "      <td>0</td>\n",
       "      <td>1</td>\n",
       "      <td>Short Term</td>\n",
       "    </tr>\n",
       "  </tbody>\n",
       "</table>\n",
       "</div>"
      ],
      "text/plain": [
       "   Loan.ID  Current.Loan.Amount  Credit.Score  Annual.Income  Monthly.Debt  \\\n",
       "0        0             9.791382      6.605298      11.465383       1509.82   \n",
       "1        1            18.420681      6.428105      10.904230       1065.45   \n",
       "2        3            18.420681      6.603944      10.608563        573.47   \n",
       "3        4             9.323669      6.603944      10.896091       1358.11   \n",
       "4        5             8.190909      6.594413      10.772875        339.93   \n",
       "\n",
       "   Months.since.last.delinquent  Current.Credit.Balance  Term_Long Term  \\\n",
       "0                           5.0               10.085226               0   \n",
       "1                          32.0               10.040550               1   \n",
       "2                          60.0                8.284757               0   \n",
       "3                          32.0                9.374328               0   \n",
       "4                          47.0               10.039285               0   \n",
       "\n",
       "   Term_Short Term        Term  \n",
       "0                1  Short Term  \n",
       "1                0   Long Term  \n",
       "2                1  Short Term  \n",
       "3                1  Short Term  \n",
       "4                1  Short Term  "
      ]
     },
     "execution_count": 49,
     "metadata": {},
     "output_type": "execute_result"
    }
   ],
   "source": [
    "train_data.head(5)"
   ]
  },
  {
   "cell_type": "code",
   "execution_count": 50,
   "metadata": {},
   "outputs": [],
   "source": [
    "train_data=pd.get_dummies(train_data)"
   ]
  },
  {
   "cell_type": "code",
   "execution_count": 51,
   "metadata": {},
   "outputs": [],
   "source": [
    "test_data=pd.get_dummies(test_data)\n",
    "test_data['Maximum.Open.Credit']=q"
   ]
  },
  {
   "cell_type": "code",
   "execution_count": 52,
   "metadata": {},
   "outputs": [],
   "source": [
    "y=train_original['Loan.Status']"
   ]
  },
  {
   "cell_type": "code",
   "execution_count": 53,
   "metadata": {},
   "outputs": [],
   "source": [
    "x=train_data\n",
    "\n",
    "x=x.drop('Loan.ID',axis=1)\n",
    "x['Maximum.Open.Credit']=p;\n",
    "\n",
    "x=x.drop('Monthly.Debt',axis=1)\n",
    "\n",
    "\n"
   ]
  },
  {
   "cell_type": "code",
   "execution_count": 62,
   "metadata": {},
   "outputs": [],
   "source": [
    "from sklearn.model_selection import train_test_split\n",
    "\n",
    "x_train, x_cv, y_train, y_cv = train_test_split(x,y, test_size =0.5)"
   ]
  },
  {
   "cell_type": "code",
   "execution_count": 63,
   "metadata": {},
   "outputs": [],
   "source": [
    "from sklearn.linear_model import LogisticRegression \n",
    "from sklearn.metrics import accuracy_score"
   ]
  },
  {
   "cell_type": "code",
   "execution_count": 64,
   "metadata": {},
   "outputs": [
    {
     "name": "stderr",
     "output_type": "stream",
     "text": [
      "C:\\Users\\Lenovo\\Anaconda3\\lib\\site-packages\\sklearn\\linear_model\\logistic.py:432: FutureWarning: Default solver will be changed to 'lbfgs' in 0.22. Specify a solver to silence this warning.\n",
      "  FutureWarning)\n"
     ]
    },
    {
     "data": {
      "text/plain": [
       "LogisticRegression(C=1.0, class_weight=None, dual=False, fit_intercept=True,\n",
       "                   intercept_scaling=1, l1_ratio=None, max_iter=100,\n",
       "                   multi_class='warn', n_jobs=None, penalty='l2',\n",
       "                   random_state=None, solver='warn', tol=0.0001, verbose=0,\n",
       "                   warm_start=False)"
      ]
     },
     "execution_count": 64,
     "metadata": {},
     "output_type": "execute_result"
    }
   ],
   "source": [
    "model = LogisticRegression() \n",
    "model.fit(x_train, y_train)\n"
   ]
  },
  {
   "cell_type": "code",
   "execution_count": 65,
   "metadata": {},
   "outputs": [],
   "source": [
    "pred_cv = model.predict(x_cv)"
   ]
  },
  {
   "cell_type": "code",
   "execution_count": 67,
   "metadata": {},
   "outputs": [
    {
     "data": {
      "text/plain": [
       "0.8089599368462601"
      ]
     },
     "execution_count": 67,
     "metadata": {},
     "output_type": "execute_result"
    }
   ],
   "source": [
    "accuracy_score(y_cv,pred_cv)"
   ]
  },
  {
   "cell_type": "code",
   "execution_count": 69,
   "metadata": {},
   "outputs": [
    {
     "name": "stdout",
     "output_type": "stream",
     "text": [
      "<class 'pandas.core.frame.DataFrame'>\n",
      "RangeIndex: 23386 entries, 0 to 23385\n",
      "Data columns (total 11 columns):\n",
      "Current.Loan.Amount             23386 non-null float64\n",
      "Credit.Score                    23386 non-null float64\n",
      "Annual.Income                   23386 non-null float64\n",
      "Monthly.Debt                    23386 non-null float64\n",
      "Months.since.last.delinquent    23386 non-null float64\n",
      "Current.Credit.Balance          23386 non-null float64\n",
      "Term_Long Term                  23386 non-null uint8\n",
      "Term_Short Term                 23386 non-null uint8\n",
      "Maximum.Open.Credit             23386 non-null float64\n",
      "Term_Long Term                  23386 non-null uint8\n",
      "Term_Short Term                 23386 non-null uint8\n",
      "dtypes: float64(7), uint8(4)\n",
      "memory usage: 1.3 MB\n",
      "<class 'pandas.core.frame.DataFrame'>\n",
      "RangeIndex: 60804 entries, 0 to 60803\n",
      "Data columns (total 10 columns):\n",
      "Current.Loan.Amount             60804 non-null float64\n",
      "Credit.Score                    60804 non-null float64\n",
      "Annual.Income                   60804 non-null float64\n",
      "Months.since.last.delinquent    60804 non-null float64\n",
      "Current.Credit.Balance          60804 non-null float64\n",
      "Term_Long Term                  60804 non-null uint8\n",
      "Term_Short Term                 60804 non-null uint8\n",
      "Term_Long Term                  60804 non-null uint8\n",
      "Term_Short Term                 60804 non-null uint8\n",
      "Maximum.Open.Credit             60804 non-null float64\n",
      "dtypes: float64(6), uint8(4)\n",
      "memory usage: 3.0 MB\n"
     ]
    },
    {
     "name": "stderr",
     "output_type": "stream",
     "text": [
      "C:\\Users\\Lenovo\\Anaconda3\\lib\\site-packages\\ipykernel_launcher.py:2: SettingWithCopyWarning: \n",
      "A value is trying to be set on a copy of a slice from a DataFrame\n",
      "\n",
      "See the caveats in the documentation: http://pandas.pydata.org/pandas-docs/stable/indexing.html#indexing-view-versus-copy\n",
      "  \n"
     ]
    },
    {
     "data": {
      "text/plain": [
       "(None, None)"
      ]
     },
     "execution_count": 69,
     "metadata": {},
     "output_type": "execute_result"
    }
   ],
   "source": [
    "k=test_original['Current.Credit.Balance']\n",
    "k[k<1]=1\n",
    "k=np.log(k)\n",
    "test_data['Current.Credit.Balance']=k\n",
    "test_data.info(),x.info()"
   ]
  },
  {
   "cell_type": "code",
   "execution_count": 68,
   "metadata": {},
   "outputs": [
    {
     "ename": "ValueError",
     "evalue": "X has 11 features per sample; expecting 10",
     "output_type": "error",
     "traceback": [
      "\u001b[1;31m---------------------------------------------------------------------------\u001b[0m",
      "\u001b[1;31mValueError\u001b[0m                                Traceback (most recent call last)",
      "\u001b[1;32m<ipython-input-68-99c6bce6bc69>\u001b[0m in \u001b[0;36m<module>\u001b[1;34m\u001b[0m\n\u001b[1;32m----> 1\u001b[1;33m \u001b[0mpred_test\u001b[0m \u001b[1;33m=\u001b[0m \u001b[0mmodel\u001b[0m\u001b[1;33m.\u001b[0m\u001b[0mpredict\u001b[0m\u001b[1;33m(\u001b[0m\u001b[0mtest_data\u001b[0m\u001b[1;33m)\u001b[0m\u001b[1;33m\u001b[0m\u001b[1;33m\u001b[0m\u001b[0m\n\u001b[0m\u001b[0;32m      2\u001b[0m \u001b[0mtest_data\u001b[0m\u001b[1;33m.\u001b[0m\u001b[0mhead\u001b[0m\u001b[1;33m(\u001b[0m\u001b[1;36m1\u001b[0m\u001b[1;33m)\u001b[0m\u001b[1;33m\u001b[0m\u001b[1;33m\u001b[0m\u001b[0m\n",
      "\u001b[1;32m~\\Anaconda3\\lib\\site-packages\\sklearn\\linear_model\\base.py\u001b[0m in \u001b[0;36mpredict\u001b[1;34m(self, X)\u001b[0m\n\u001b[0;32m    287\u001b[0m             \u001b[0mPredicted\u001b[0m \u001b[1;32mclass\u001b[0m \u001b[0mlabel\u001b[0m \u001b[0mper\u001b[0m \u001b[0msample\u001b[0m\u001b[1;33m.\u001b[0m\u001b[1;33m\u001b[0m\u001b[1;33m\u001b[0m\u001b[0m\n\u001b[0;32m    288\u001b[0m         \"\"\"\n\u001b[1;32m--> 289\u001b[1;33m         \u001b[0mscores\u001b[0m \u001b[1;33m=\u001b[0m \u001b[0mself\u001b[0m\u001b[1;33m.\u001b[0m\u001b[0mdecision_function\u001b[0m\u001b[1;33m(\u001b[0m\u001b[0mX\u001b[0m\u001b[1;33m)\u001b[0m\u001b[1;33m\u001b[0m\u001b[1;33m\u001b[0m\u001b[0m\n\u001b[0m\u001b[0;32m    290\u001b[0m         \u001b[1;32mif\u001b[0m \u001b[0mlen\u001b[0m\u001b[1;33m(\u001b[0m\u001b[0mscores\u001b[0m\u001b[1;33m.\u001b[0m\u001b[0mshape\u001b[0m\u001b[1;33m)\u001b[0m \u001b[1;33m==\u001b[0m \u001b[1;36m1\u001b[0m\u001b[1;33m:\u001b[0m\u001b[1;33m\u001b[0m\u001b[1;33m\u001b[0m\u001b[0m\n\u001b[0;32m    291\u001b[0m             \u001b[0mindices\u001b[0m \u001b[1;33m=\u001b[0m \u001b[1;33m(\u001b[0m\u001b[0mscores\u001b[0m \u001b[1;33m>\u001b[0m \u001b[1;36m0\u001b[0m\u001b[1;33m)\u001b[0m\u001b[1;33m.\u001b[0m\u001b[0mastype\u001b[0m\u001b[1;33m(\u001b[0m\u001b[0mnp\u001b[0m\u001b[1;33m.\u001b[0m\u001b[0mint\u001b[0m\u001b[1;33m)\u001b[0m\u001b[1;33m\u001b[0m\u001b[1;33m\u001b[0m\u001b[0m\n",
      "\u001b[1;32m~\\Anaconda3\\lib\\site-packages\\sklearn\\linear_model\\base.py\u001b[0m in \u001b[0;36mdecision_function\u001b[1;34m(self, X)\u001b[0m\n\u001b[0;32m    268\u001b[0m         \u001b[1;32mif\u001b[0m \u001b[0mX\u001b[0m\u001b[1;33m.\u001b[0m\u001b[0mshape\u001b[0m\u001b[1;33m[\u001b[0m\u001b[1;36m1\u001b[0m\u001b[1;33m]\u001b[0m \u001b[1;33m!=\u001b[0m \u001b[0mn_features\u001b[0m\u001b[1;33m:\u001b[0m\u001b[1;33m\u001b[0m\u001b[1;33m\u001b[0m\u001b[0m\n\u001b[0;32m    269\u001b[0m             raise ValueError(\"X has %d features per sample; expecting %d\"\n\u001b[1;32m--> 270\u001b[1;33m                              % (X.shape[1], n_features))\n\u001b[0m\u001b[0;32m    271\u001b[0m \u001b[1;33m\u001b[0m\u001b[0m\n\u001b[0;32m    272\u001b[0m         scores = safe_sparse_dot(X, self.coef_.T,\n",
      "\u001b[1;31mValueError\u001b[0m: X has 11 features per sample; expecting 10"
     ]
    }
   ],
   "source": [
    "pred_test = model.predict(test_data)\n",
    "test_data.head(1)"
   ]
  },
  {
   "cell_type": "code",
   "execution_count": null,
   "metadata": {},
   "outputs": [],
   "source": [
    "Submission=pd.read_csv(\"Desktop/Project/SubmissionSample.csv\")"
   ]
  },
  {
   "cell_type": "code",
   "execution_count": null,
   "metadata": {},
   "outputs": [],
   "source": [
    "Submission.head(5)"
   ]
  },
  {
   "cell_type": "code",
   "execution_count": null,
   "metadata": {},
   "outputs": [],
   "source": [
    "Submission['Loan.Status']=pred_test"
   ]
  },
  {
   "cell_type": "code",
   "execution_count": null,
   "metadata": {},
   "outputs": [],
   "source": [
    "Submission['Loan.ID']=test_original['Loan.ID']"
   ]
  },
  {
   "cell_type": "code",
   "execution_count": null,
   "metadata": {},
   "outputs": [],
   "source": [
    "Submission.info()"
   ]
  },
  {
   "cell_type": "code",
   "execution_count": null,
   "metadata": {},
   "outputs": [],
   "source": []
  },
  {
   "cell_type": "code",
   "execution_count": null,
   "metadata": {},
   "outputs": [],
   "source": [
    "Submission.info()"
   ]
  },
  {
   "cell_type": "code",
   "execution_count": null,
   "metadata": {},
   "outputs": [],
   "source": [
    "Submission.head(10)"
   ]
  },
  {
   "cell_type": "code",
   "execution_count": null,
   "metadata": {},
   "outputs": [],
   "source": [
    "pd.DataFrame(Submission, columns=['Loan.ID','Loan.Status']).to_csv('SubmissionSamples31.csv')"
   ]
  },
  {
   "cell_type": "code",
   "execution_count": null,
   "metadata": {},
   "outputs": [],
   "source": [
    "\n",
    "from sklearn.model_selection import StratifiedKFold\n",
    "from sklearn import tree\n",
    "from sklearn.ensemble import RandomForestClassifier\n",
    "from sklearn.model_selection import GridSearchCV\n",
    "i=1 \n",
    "kf = StratifiedKFold(n_splits=5,random_state=1,shuffle=True) \n",
    "       "
   ]
  },
  {
   "cell_type": "code",
   "execution_count": null,
   "metadata": {},
   "outputs": [],
   "source": [
    "for train_index,test_index in kf.split(x,y):\n",
    "    print('\\n{} of kfold {}'.format(i,kf.n_splits))\n",
    "    xtr,xvl = x.loc[train_index],x.loc[test_index]\n",
    "    ytr,yvl = y[train_index],y[test_index]\n",
    "    model = RandomForestClassifier(random_state=1, max_depth=10) \n",
    "    model.fit(xtr, ytr)\n",
    "    pred_test = model.predict(xvl)\n",
    "    score = accuracy_score(yvl,pred_test)\n",
    "    print('accuracy_score',score)\n",
    "    i=i+ 1\n",
    "    \n",
    "    "
   ]
  },
  {
   "cell_type": "code",
   "execution_count": null,
   "metadata": {},
   "outputs": [],
   "source": [
    "import pandas as pd "
   ]
  },
  {
   "cell_type": "code",
   "execution_count": null,
   "metadata": {},
   "outputs": [],
   "source": [
    "df=pd.read_csv(\"Desktop/SubmissionSample.csv\")"
   ]
  },
  {
   "cell_type": "code",
   "execution_count": null,
   "metadata": {},
   "outputs": [],
   "source": [
    "df.head(5)"
   ]
  },
  {
   "cell_type": "code",
   "execution_count": null,
   "metadata": {},
   "outputs": [],
   "source": [
    "df.drop(df.columns[df.columns.str.contains('unnamed',case = False)],axis = 1, inplace = True)"
   ]
  },
  {
   "cell_type": "code",
   "execution_count": null,
   "metadata": {},
   "outputs": [],
   "source": [
    "df.head()"
   ]
  },
  {
   "cell_type": "code",
   "execution_count": null,
   "metadata": {},
   "outputs": [],
   "source": [
    "pd.DataFrame(df, columns=['Loan.ID','Loan.Status']).to_csv('SubmissionSamples1.csv')"
   ]
  },
  {
   "cell_type": "code",
   "execution_count": null,
   "metadata": {},
   "outputs": [],
   "source": []
  },
  {
   "cell_type": "code",
   "execution_count": null,
   "metadata": {},
   "outputs": [],
   "source": []
  },
  {
   "cell_type": "code",
   "execution_count": null,
   "metadata": {},
   "outputs": [],
   "source": []
  },
  {
   "cell_type": "code",
   "execution_count": null,
   "metadata": {},
   "outputs": [],
   "source": []
  }
 ],
 "metadata": {
  "kernelspec": {
   "display_name": "Python 3",
   "language": "python",
   "name": "python3"
  },
  "language_info": {
   "codemirror_mode": {
    "name": "ipython",
    "version": 3
   },
   "file_extension": ".py",
   "mimetype": "text/x-python",
   "name": "python",
   "nbconvert_exporter": "python",
   "pygments_lexer": "ipython3",
   "version": "3.7.3"
  }
 },
 "nbformat": 4,
 "nbformat_minor": 2
}
